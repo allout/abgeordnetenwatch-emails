{
 "metadata": {
  "language_info": {
   "codemirror_mode": {
    "name": "ipython",
    "version": 3
   },
   "file_extension": ".py",
   "mimetype": "text/x-python",
   "name": "python",
   "nbconvert_exporter": "python",
   "pygments_lexer": "ipython3",
   "version": "3.9.1-final"
  },
  "orig_nbformat": 2,
  "kernelspec": {
   "name": "python3",
   "display_name": "Python 3",
   "language": "python"
  }
 },
 "nbformat": 4,
 "nbformat_minor": 2,
 "cells": [
  {
   "source": [
    "# Abgeordnetenwatch Emails\n",
    "\n",
    "### Augment Abgeordnetenwatch data to include Abgeordnete (representives) email\n",
    "\n",
    "Processes the Bundestag-Abgeordnete.csv from https://www.abgeordnetenwatch.de/ and adds email addresses for each representative as accurately as possible\n",
    "\n",
    "## Method\n",
    "\n",
    "Creates email addresses based on first_name, last_name\n",
    "\n",
    "This process tries to use the same convention as the Bundestag uses when forming email addresses.\n",
    "\n",
    "All conventions are based on observation and may not be entirely correct.\n",
    "\n",
    "## Observed conventions in email formatting:\n",
    "\n",
    "- Hyphenated \"-\" last names such as Aschenberg-Dugnus\n",
    "\n",
    "  Preserved in the email address\n",
    "- Hyphenated \"-\" first names such as Leif-Erik\n",
    "\n",
    "  Preserved in the email address\n",
    "- All accented characters \"äéöüß\" are converted\n",
    "\n",
    "  See accent_aliases dictionary below\n",
    "- If there are multiple first names, there is no consistency to whether they are included or not and how. Most of the time the second name is just dropped, but not always.\n",
    "\n",
    "  For these occurances, the known_emails lookup is used to explicity set the email address\n",
    "\n",
    "- If a last name contains \"von\", there is no consistency to whether it is included or not and how.\n",
    "\n",
    "  For these occurances, the known_emails lookup is used to explicity set the email address\n",
    "- If a last name starts with \"de \" as in \"de Vries\" the \"de\" is preserved and the space removed\n",
    "\n",
    "## Usage\n",
    "\n",
    "_Free to use, duplicate, whatever._\n",
    "\n",
    "Unzip contents of data zipfile to project directory then:\n",
    "\n",
    "```\n",
    "pip install -r requirements.txt\n",
    "jupyter notebook\n",
    "```\n",
    "\n",
    "Run the notebook!\n",
    "\n",
    "In the email processing step you will be warned if there is a name that could generate a non-conventional email address\n"
   ],
   "cell_type": "markdown",
   "metadata": {}
  },
  {
   "cell_type": "code",
   "execution_count": 34,
   "metadata": {},
   "outputs": [],
   "source": [
    "import pandas as pd\n",
    "reps = pd.read_csv('./Daten-abgeordnetenwatch/Bundestag-Abgeordnete.csv', sep=';')\n",
    "reps.columns = reps.iloc[0]\n",
    "reps = reps[1:]\n",
    "constituencies = pd.read_csv('./Daten-abgeordnetenwatch/wahlkreise_de_bundestag.csv', sep=';')\n",
    "constituencies.columns = constituencies.iloc[0]\n",
    "constituencies = constituencies[1:]\n"
   ]
  },
  {
   "cell_type": "code",
   "execution_count": 35,
   "metadata": {
    "tags": []
   },
   "outputs": [],
   "source": [
    "# Setup for email generation\n",
    "\n",
    "import re\n",
    "# A helper regular expression to match on any unexpected characters like spaces, dashes etc etc\n",
    "non_alphanum_regex = re.compile(r'[^a-z0-9ßäöüèé-]+', re.IGNORECASE)\n",
    "\n",
    "accent_aliases = {\n",
    "    'Ä': 'Ae',\n",
    "    'Ö': 'Oe',\n",
    "    'Ü': 'Ue',\n",
    "    'ä': 'ae',\n",
    "    'ö': 'oe',\n",
    "    'ü': 'ue',\n",
    "    'é': 'e',\n",
    "    'è': 'e',\n",
    "    'ß': 'ss',\n",
    "}\n",
    "\n",
    "accent_translate_map = {ord(key):val for key, val in accent_aliases.items()}\n",
    "\n",
    "# If emails don't follow any common rules, they can be set here to ensure accuracy\n",
    "# Lookup key should be of the form f'{first_name} {last_name}' where first_name and last_name are the values taken from the corresponding columns in the dataset\n",
    "known_emails = {\n",
    "    'Jan R. Nolte': 'jan.nolte@bundestag.de',\n",
    "    'Lorenz Gösta Beutin': 'lorenz.beutin@bundestag.de',\n",
    "    'Ernst Dieter Rossmann': 'ernst-dieter.rossmann@bundestag.de',\n",
    "    'Michael von Abercron': 'michael.vonabercron@bundestag.de',\n",
    "    'Konstantin von Notz': 'konstantin.notz@bundestag.de',\n",
    "    'Amira Mohamed Ali': 'amira.mohamedali@bundestag.de',\n",
    "    'Armin Paul Hampel': 'armin.paulus.hampel@bundestag.de',\n",
    "    'Ottmar von Holtz': 'ottmar.vonholtz@bundestag.de',\n",
    "    'Hans-Georg von der Marwitz': 'hans-georg.vondermarwitz@bundestag.de',\n",
    "    'Beatrix von Storch': 'beatrix.vonstorch@bundestag.de',\n",
    "    'Reinhard Arnold Houben': 'reinhard.houben@bundestag.de',\n",
    "    'Matthias W. Birkwald': 'matthias-w.birkwald@bundestag.de',\n",
    "    'Alexander Graf Lambsdorff': 'alexander.graflambsdorff@bundestag.de',\n",
    "    'Alexander S. Neu': 'alexander.neu@bundestag.de',\n",
    "    'Olaf in der Beek': 'olaf.inderbeek@Bundestag.de',\n",
    "    'Berengar Elsner von Gronow': 'berengar.elsnervongronow@bundestag.de',\n",
    "    'Jan R. Nolte': 'jan.nolte@bundestag.de',\n",
    "    'Hermann Otto Solms': 'hermann.solms@bundestag.de',\n",
    "    'Tobias Matthias Peterka': 'tobias.peterka@bundestag.de',\n",
    "    'Christian von Stetten': 'christian.stetten@bundestag.de',\n",
    "    'Axel Eduard Fischer': 'axel.fischer@bundestag.de',\n",
    "    'Karl A. Lamers': 'karl-a.lamers@bundestag.de',\n",
    "    'Matern von Marschall': 'matern.vonmarschall@bundestag.de',\n",
    "    'Helin Evrim Sommer': 'helin-evrim.sommer@bundestag.de',\n",
    "    'Wilhelm von Gottberg': 'wilhelm.vongottberg@bundestag.de',\n",
    "    'Martin E. Renner': 'martin.renner@bundestag.de'\n",
    "}\n",
    "\n"
   ]
  },
  {
   "cell_type": "code",
   "execution_count": 36,
   "metadata": {},
   "outputs": [
    {
     "output_type": "stream",
     "name": "stdout",
     "text": [
      "709 emails generated\n"
     ]
    }
   ],
   "source": [
    "# Email generation\n",
    "emails = []\n",
    "\n",
    "for rep in reps.itertuples():\n",
    "    try:\n",
    "        # Is there an explicit email address set for this name?\n",
    "        email = known_emails[f'{rep.first_name} {rep.last_name}']\n",
    "    except KeyError:\n",
    "        # There is not, so we generate it to the best of our knowledge\n",
    "        first_name = rep.first_name.lower().strip()\n",
    "        last_name = rep.last_name.lower().strip()\n",
    "\n",
    "        if last_name.startswith('de '):\n",
    "            # 'de Vries', 'De Riddler' etc\n",
    "            last_name = last_name.replace('de ', 'de')\n",
    "        else:\n",
    "            # Do a check to see if this name might generate an \"unconventional\" email\n",
    "            if non_alphanum_regex.search(rep.first_name + rep.last_name):\n",
    "                print(\n",
    "                    f'Warning: \"{rep.first_name}\", \"{rep.last_name}\" (\"{rep.first_name} {rep.last_name}\") may have an unconventional email address format'\n",
    "                )\n",
    "\n",
    "        email = f'{first_name}.{last_name}@bundestag.de'.translate(accent_translate_map)\n",
    "    emails.append(email)\n",
    "\n",
    "print(len(emails), 'emails generated')\n"
   ]
  },
  {
   "cell_type": "code",
   "execution_count": 37,
   "metadata": {},
   "outputs": [],
   "source": [
    "# Append emails row to the dataframe\n",
    "reps['email'] = emails\n",
    "\n"
   ]
  },
  {
   "cell_type": "code",
   "execution_count": 38,
   "metadata": {},
   "outputs": [],
   "source": [
    "# Save it, using a comma as a separator this time!\n",
    "reps.to_csv('./Daten-abgeordnetenwatch/Bundestag-Abgeordnete-emails.csv', sep=',')"
   ]
  }
 ]
}