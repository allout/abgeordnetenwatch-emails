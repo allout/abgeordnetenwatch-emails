{
 "metadata": {
  "language_info": {
   "codemirror_mode": {
    "name": "ipython",
    "version": 3
   },
   "file_extension": ".py",
   "mimetype": "text/x-python",
   "name": "python",
   "nbconvert_exporter": "python",
   "pygments_lexer": "ipython3",
   "version": "3.9.1-final"
  },
  "orig_nbformat": 2,
  "kernelspec": {
   "name": "python3",
   "display_name": "Python 3.9.1 64-bit ('python-3.9.1')",
   "metadata": {
    "interpreter": {
     "hash": "26cc3ab5a4509ebec4853bc40780173dc52b481e02c05d22316698c08840c316"
    }
   }
  }
 },
 "nbformat": 4,
 "nbformat_minor": 2,
 "cells": [
  {
   "source": [
    "# Abgeordnetenwatch Emails\n",
    "\n",
    "### Augment Abgeordnetenwatch data to include Abgeordnete (representives) email\n",
    "\n",
    "Processes the Bundestag-Abgeordnete.csv from https://www.abgeordnetenwatch.de/ and adds email addresses for each representative as accurately as possible\n",
    "\n",
    "## Method\n",
    "\n",
    "Creates email addresses based on first_name, last_name\n",
    "\n",
    "This process tries to use the same convention as the Bundestag uses when forming email addresses.\n",
    "\n",
    "All conventions are based on observation and may not be entirely correct.\n",
    "\n",
    "### Observed conventions in email formatting:\n",
    "\n",
    "- Hyphenated \"-\" last names such as Aschenberg-Dugnus\n",
    "\n",
    "  Preserved in the email address\n",
    "- Hyphenated \"-\" first names such as Leif-Erik\n",
    "\n",
    "  Preserved in the email address\n",
    "- All accented characters \"äéöüß\" are converted\n",
    "\n",
    "  See accent_aliases dictionary below\n",
    "- If there are multiple first names, there is no consistency to whether they are included or not and how. Most of the time the second name is just dropped, but not always.\n",
    "\n",
    "  For these occurances, the known_emails lookup is used to explicity set the email address\n",
    "\n",
    "- If a last name contains \"von\", there is no consistency to whether it is included or not and how.\n",
    "\n",
    "  For these occurances, the known_emails lookup is used to explicity set the email address\n",
    "- If a last name starts with \"de \" as in \"de Vries\" the \"de\" is preserved and the space removed\n",
    "\n",
    "## Usage\n",
    "\n",
    "_Free to use, duplicate, whatever._\n",
    "\n",
    "Unzip contents of data zipfile to project directory then:\n",
    "\n",
    "```\n",
    "pip install -r requirements.txt\n",
    "jupyter notebook\n",
    "```\n"
   ],
   "cell_type": "markdown",
   "metadata": {}
  },
  {
   "cell_type": "code",
   "execution_count": 14,
   "metadata": {},
   "outputs": [],
   "source": [
    "import pandas as pd\n",
    "reps = pd.read_csv('./Daten-abgeordnetenwatch/Bundestag-Abgeordnete.csv', sep=';')\n",
    "reps.columns = reps.iloc[0]\n",
    "reps = reps[1:]\n",
    "constituencies = pd.read_csv('./Daten-abgeordnetenwatch/wahlkreise_de_bundestag.csv', sep=';')\n",
    "constituencies.columns = constituencies.iloc[0]\n",
    "constituencies = constituencies[1:]\n"
   ]
  },
  {
   "cell_type": "code",
   "execution_count": 16,
   "metadata": {
    "tags": []
   },
   "outputs": [],
   "source": [
    "# Setup for email generation\n",
    "\n",
    "import re\n",
    "# A helper regular expression to match on any unexpected characters like spaces, dashes etc etc\n",
    "non_alphanum_regex = re.compile(r'[^a-z0-9äöü]+', re.IGNORECASE)\n",
    "\n",
    "accent_aliases = {\n",
    "    'Ä': 'Ae',\n",
    "    'Ö': 'Oe',\n",
    "    'Ü': 'Ue',\n",
    "    'ä': 'ae',\n",
    "    'ö': 'oe',\n",
    "    'ü': 'ue',\n",
    "    'é': 'e',\n",
    "    'è': 'e',\n",
    "    'ß': 'ss',\n",
    "}\n",
    "\n",
    "accent_translate_map = {ord(key):val for key, val in accent_aliases.items()}\n",
    "\n",
    "# If emails don't follow any common rules, they can be set here to ensure accuracy\n",
    "# Lookup key should be of the form f'{first_name} {last_name}' where first_name and last_name are the values taken from the corresponding columns in the dataset\n",
    "known_emails = {\n",
    "    'Jan R. Nolte': 'jan.nolte@bundestag.de',\n",
    "    'Lorenz Gösta Beutin': 'lorenz.beutin@bundestag.de',\n",
    "    'Ernst Dieter Rossmann': 'ernst-dieter.rossmann@bundestag.de',\n",
    "    'Michael von Abercron': 'michael.vonabercron@bundestag.de',\n",
    "    'Konstantin von Notz': 'konstantin.notz@bundestag.de',\n",
    "    'Amira Mohamed Ali': 'amira.mohamedali@bundestag.de',\n",
    "    'Armin Paul Hampel': 'armin.paulus.hampel@bundestag.de',\n",
    "    'Ottmar von Holtz': 'ottmar.vonholtz@bundestag.de',\n",
    "    'Hans-Georg von der Marwitz': 'hans-georg.vondermarwitz@bundestag.de',\n",
    "    'Beatrix von Storch': 'beatrix.vonstorch@bundestag.de',\n",
    "    'Reinhard Arnold Houben': 'reinhard.houben@bundestag.de',\n",
    "    'Matthias W. Birkwald': 'matthias-w.birkwald@bundestag.de',\n",
    "    'Alexander Graf Lambsdorff': 'alexander.graflambsdorff@bundestag.de',\n",
    "    'Alexander S. Neu': 'alexander.neu@bundestag.de',\n",
    "    'Olaf in der Beek': 'olaf.inderbeek@Bundestag.de',\n",
    "    'Berengar Elsner von Gronow': 'berengar.elsnervongronow@bundestag.de',\n",
    "    'Jan R. Nolte': 'jan.nolte@bundestag.de',\n",
    "    'Hermann Otto Solms': 'hermann.solms@bundestag.de',\n",
    "    'Tobias Matthias Peterka': 'tobias.peterka@bundestag.de',\n",
    "    'Christian von Stetten': 'christian.stetten@bundestag.de',\n",
    "    'Axel Eduard Fischer': 'axel.fischer@bundestag.de',\n",
    "    'Karl A. Lamers': 'karl-a.lamers@bundestag.de',\n",
    "    'Matern von Marschall': 'matern.vonmarschall@bundestag.de',\n",
    "    'Helin Evrim Sommer': 'helin-evrim.sommer@bundestag.de',\n",
    "    'Wilhelm von Gottberg': 'wilhelm.vongottberg@bundestag.de',\n",
    "}\n",
    "\n"
   ]
  },
  {
   "cell_type": "code",
   "execution_count": 28,
   "metadata": {},
   "outputs": [
    {
     "output_type": "stream",
     "name": "stdout",
     "text": [
      "709 emails generated\n"
     ]
    }
   ],
   "source": [
    "# Email generation\n",
    "emails = []\n",
    "\n",
    "for rep in reps.itertuples():\n",
    "    # Uncomment to see \"flagged\" records (ie names that might not work when used to build an email address)\n",
    "    # if non_alphanum_regex.search(rep.first_name + rep.last_name):\n",
    "    #     print(f'\"{rep.first_name}\" \"{rep.last_name}\"')\n",
    "\n",
    "    try:\n",
    "        # Is there an explicit email address set for this name?\n",
    "        email = known_emails[f'{rep.first_name} {rep.last_name}']\n",
    "    except KeyError:\n",
    "        # There is not, so we generate it to the best of our knowledge\n",
    "        first_name = rep.first_name.lower().strip()\n",
    "        last_name = rep.last_name.lower().strip()\n",
    "\n",
    "        if last_name.startswith('de '):\n",
    "            # 'de Vries', 'De Riddler' etc\n",
    "            last_name = last_name.replace('de ', 'de')\n",
    "\n",
    "        email = f'{first_name}.{last_name}@bundestag.de'.translate(accent_translate_map)\n",
    "    emails.append(email)\n",
    "\n",
    "print(len(emails), 'emails generated')\n"
   ]
  },
  {
   "cell_type": "code",
   "execution_count": 29,
   "metadata": {},
   "outputs": [],
   "source": [
    "# Append emails row to the dataframe\n",
    "reps['email'] = emails\n",
    "\n"
   ]
  },
  {
   "cell_type": "code",
   "execution_count": 34,
   "metadata": {},
   "outputs": [
    {
     "output_type": "execute_result",
     "data": {
      "text/plain": [
       "0     id politician_id parliament_period   last_name first_name sex  \\\n",
       "1  41857        130900         Bundestag  Nicolaisen      Petra   f   \n",
       "2  43685        139019         Bundestag     Damerow     Astrid   f   \n",
       "3  44536         79299         Bundestag    Helfrich       Mark   m   \n",
       "4  41227        122157         Bundestag     Kubicki   Wolfgang   m   \n",
       "5  41132        120104         Bundestag      Nestle     Ingrid   f   \n",
       "\n",
       "0 party_politician    fraction  \\\n",
       "1              CDU     CDU/CSU   \n",
       "2              CDU     CDU/CSU   \n",
       "3              CDU     CDU/CSU   \n",
       "4              FDP         FDP   \n",
       "5       DIE GRÜNEN  DIE GRÜNEN   \n",
       "\n",
       "0                                  constituency_name constituency_number  \\\n",
       "1              1 - Flensburg - Schleswig (Bundestag)                   1   \n",
       "2  2 - Nordfriesland - Dithmarschen Nord (Bundestag)                   2   \n",
       "3       3 - Steinburg - Dithmarschen Süd (Bundestag)                   3   \n",
       "4       3 - Steinburg - Dithmarschen Süd (Bundestag)                   3   \n",
       "5       3 - Steinburg - Dithmarschen Süd (Bundestag)                   3   \n",
       "\n",
       "0 constituency_result occupation                      education year_of_birth  \\\n",
       "1             40.00 %        MdB              Industriekauffrau          1965   \n",
       "2             45.10 %        MdB                   Bankkauffrau          1958   \n",
       "3             41.90 %        MdB           Diplom Kaufmann (FH)          1978   \n",
       "4             11.00 %        MdB                   Rechtsanwalt          1952   \n",
       "5              6.70 %        MdB  Diplom-Wirtschaftsingenieurin          1977   \n",
       "\n",
       "0                                        profile_url  \\\n",
       "1  https://www.abgeordnetenwatch.de/profile/petra...   \n",
       "2  https://www.abgeordnetenwatch.de/profile/astri...   \n",
       "3  https://www.abgeordnetenwatch.de/profile/mark-...   \n",
       "4  https://www.abgeordnetenwatch.de/profile/wolfg...   \n",
       "5  https://www.abgeordnetenwatch.de/profile/ingri...   \n",
       "\n",
       "0                          email  \n",
       "1  petra.nicolaisen@bundestag.de  \n",
       "2    astrid.damerow@bundestag.de  \n",
       "3     mark.helfrich@bundestag.de  \n",
       "4  wolfgang.kubicki@bundestag.de  \n",
       "5     ingrid.nestle@bundestag.de  "
      ],
      "text/html": "<div>\n<style scoped>\n    .dataframe tbody tr th:only-of-type {\n        vertical-align: middle;\n    }\n\n    .dataframe tbody tr th {\n        vertical-align: top;\n    }\n\n    .dataframe thead th {\n        text-align: right;\n    }\n</style>\n<table border=\"1\" class=\"dataframe\">\n  <thead>\n    <tr style=\"text-align: right;\">\n      <th></th>\n      <th>id</th>\n      <th>politician_id</th>\n      <th>parliament_period</th>\n      <th>last_name</th>\n      <th>first_name</th>\n      <th>sex</th>\n      <th>party_politician</th>\n      <th>fraction</th>\n      <th>constituency_name</th>\n      <th>constituency_number</th>\n      <th>constituency_result</th>\n      <th>occupation</th>\n      <th>education</th>\n      <th>year_of_birth</th>\n      <th>profile_url</th>\n      <th>email</th>\n    </tr>\n  </thead>\n  <tbody>\n    <tr>\n      <th>1</th>\n      <td>41857</td>\n      <td>130900</td>\n      <td>Bundestag</td>\n      <td>Nicolaisen</td>\n      <td>Petra</td>\n      <td>f</td>\n      <td>CDU</td>\n      <td>CDU/CSU</td>\n      <td>1 - Flensburg - Schleswig (Bundestag)</td>\n      <td>1</td>\n      <td>40.00 %</td>\n      <td>MdB</td>\n      <td>Industriekauffrau</td>\n      <td>1965</td>\n      <td>https://www.abgeordnetenwatch.de/profile/petra...</td>\n      <td>petra.nicolaisen@bundestag.de</td>\n    </tr>\n    <tr>\n      <th>2</th>\n      <td>43685</td>\n      <td>139019</td>\n      <td>Bundestag</td>\n      <td>Damerow</td>\n      <td>Astrid</td>\n      <td>f</td>\n      <td>CDU</td>\n      <td>CDU/CSU</td>\n      <td>2 - Nordfriesland - Dithmarschen Nord (Bundestag)</td>\n      <td>2</td>\n      <td>45.10 %</td>\n      <td>MdB</td>\n      <td>Bankkauffrau</td>\n      <td>1958</td>\n      <td>https://www.abgeordnetenwatch.de/profile/astri...</td>\n      <td>astrid.damerow@bundestag.de</td>\n    </tr>\n    <tr>\n      <th>3</th>\n      <td>44536</td>\n      <td>79299</td>\n      <td>Bundestag</td>\n      <td>Helfrich</td>\n      <td>Mark</td>\n      <td>m</td>\n      <td>CDU</td>\n      <td>CDU/CSU</td>\n      <td>3 - Steinburg - Dithmarschen Süd (Bundestag)</td>\n      <td>3</td>\n      <td>41.90 %</td>\n      <td>MdB</td>\n      <td>Diplom Kaufmann (FH)</td>\n      <td>1978</td>\n      <td>https://www.abgeordnetenwatch.de/profile/mark-...</td>\n      <td>mark.helfrich@bundestag.de</td>\n    </tr>\n    <tr>\n      <th>4</th>\n      <td>41227</td>\n      <td>122157</td>\n      <td>Bundestag</td>\n      <td>Kubicki</td>\n      <td>Wolfgang</td>\n      <td>m</td>\n      <td>FDP</td>\n      <td>FDP</td>\n      <td>3 - Steinburg - Dithmarschen Süd (Bundestag)</td>\n      <td>3</td>\n      <td>11.00 %</td>\n      <td>MdB</td>\n      <td>Rechtsanwalt</td>\n      <td>1952</td>\n      <td>https://www.abgeordnetenwatch.de/profile/wolfg...</td>\n      <td>wolfgang.kubicki@bundestag.de</td>\n    </tr>\n    <tr>\n      <th>5</th>\n      <td>41132</td>\n      <td>120104</td>\n      <td>Bundestag</td>\n      <td>Nestle</td>\n      <td>Ingrid</td>\n      <td>f</td>\n      <td>DIE GRÜNEN</td>\n      <td>DIE GRÜNEN</td>\n      <td>3 - Steinburg - Dithmarschen Süd (Bundestag)</td>\n      <td>3</td>\n      <td>6.70 %</td>\n      <td>MdB</td>\n      <td>Diplom-Wirtschaftsingenieurin</td>\n      <td>1977</td>\n      <td>https://www.abgeordnetenwatch.de/profile/ingri...</td>\n      <td>ingrid.nestle@bundestag.de</td>\n    </tr>\n  </tbody>\n</table>\n</div>"
     },
     "metadata": {},
     "execution_count": 34
    }
   ],
   "source": [
    "# The datasource now has emails!\n",
    "reps.head()\n",
    "\n"
   ]
  },
  {
   "cell_type": "code",
   "execution_count": 35,
   "metadata": {},
   "outputs": [],
   "source": [
    "# Save it, using a comma as a separator this time!\n",
    "reps.to_csv('./Daten-abgeordnetenwatch/Bundestag-Abgeordnete-emails.csv', sep=',')"
   ]
  }
 ]
}